{
 "cells": [
  {
   "attachments": {},
   "cell_type": "markdown",
   "metadata": {},
   "source": [
    "# 1) setattr\n",
    "Объявите класс Book для представления информации о книге. Объекты этого класса должны создаваться командами:\n",
    "```\n",
    "book = Book()\n",
    "book = Book(название, автор, число страниц, год издания)\n",
    "```\n",
    "В каждом объекте класса Book автоматически должны формироваться следующие локальные свойства:\n",
    "\n",
    "title - заголовок книги (строка, по умолчанию пустая строка);\n",
    "author - автор книги (строка, по умолчанию пустая строка);\n",
    "pages - число страниц (целое число, по умолчанию 0);\n",
    "year - год издания (целое число, по умолчанию 0).\n",
    "\n",
    "Объявите в классе Book магический метод __setattr__ для проверки типов присваиваемых данных локальным свойствам title, author, pages и year. Если типы не соответствуют локальному атрибуту (например, title должна ссылаться на строку, а pages - на целое число), то генерировать исключение командой:\n",
    "```\n",
    "raise TypeError(\"Неверный тип присваиваемых данных.\")\n",
    "```\n",
    "Создайте в программе объект book класса Book для книги:\n",
    "\n",
    "автор: JK\n",
    "заголовок: OOP\n",
    "pages: 123\n",
    "year: 2022"
   ]
  },
  {
   "cell_type": "code",
   "execution_count": 1,
   "metadata": {},
   "outputs": [
    {
     "name": "stdout",
     "output_type": "stream",
     "text": [
      "Автор: JK\n",
      "Заголовок: OOP\n",
      "Число страниц: 123\n",
      "Год издания: 2022\n"
     ]
    }
   ],
   "source": [
    "class Book:\n",
    "    def __init__(self, title=\"\", author=\"\", pages=0, year=0):\n",
    "        self.title = title\n",
    "        self.author = author\n",
    "        self.pages = pages\n",
    "        self.year = year\n",
    "\n",
    "    def __setattr__(self, name, value):\n",
    "        if name in [\"title\", \"author\"]:\n",
    "            if not isinstance(value, str):\n",
    "                raise TypeError(\"Неверный тип присваиваемых данных.\")\n",
    "        elif name == \"pages\":\n",
    "            if not isinstance(value, int):\n",
    "                raise TypeError(\"Неверный тип присваиваемых данных.\")\n",
    "        elif name == \"year\":\n",
    "            if not isinstance(value, int):\n",
    "                raise TypeError(\"Неверный тип присваиваемых данных.\")\n",
    "        super().__setattr__(name, value)\n",
    "\n",
    "\n",
    "book = Book(author=\"JK\", title=\"OOP\", pages=123, year=2022)\n",
    "\n",
    "print(f\"Автор: {book.author}\")\n",
    "print(f\"Заголовок: {book.title}\")\n",
    "print(f\"Число страниц: {book.pages}\")\n",
    "print(f\"Год издания: {book.year}\")\n"
   ]
  },
  {
   "attachments": {},
   "cell_type": "markdown",
   "metadata": {},
   "source": [
    "# 2) call\n",
    "Объявите класс RandomPassword для генерации случайных паролей. Объекты этого класса должны создаваться командой:\n",
    "```\n",
    "rnd = RandomPassword(psw_chars, min_length, max_length)\n",
    "```\n",
    "где psw_chars - строка из разрешенных в пароле символов; min_length, max_length - минимальная и максимальная длина генерируемых паролей.\n",
    "\n",
    "Непосредственная генерация одного пароля должна выполняться командой:\n",
    "```\n",
    "psw = rnd()\n",
    "```\n",
    "где psw - ссылка на строку длиной в диапазоне [min_length; max_length] из случайно выбранных символов строки psw_chars.\n",
    "\n",
    "С помощью генератора списка (list comprehension) создайте список lst_pass из трех сгенерированных паролей объектом rnd класса RandomPassword, созданного с параметрами: \n",
    "```\n",
    "min_length = 5\n",
    "max_length = 20\n",
    "psw_chars = \"qwertyuiopasdfghjklzxcvbnm0123456789!@#$%&*\"\n",
    "```"
   ]
  },
  {
   "cell_type": "code",
   "execution_count": 2,
   "metadata": {},
   "outputs": [
    {
     "name": "stdout",
     "output_type": "stream",
     "text": [
      "['fr$#njnzqdsg', 'ytj5umfu', '4zktc%9s6vcsp21994g']\n"
     ]
    }
   ],
   "source": [
    "import random\n",
    "\n",
    "class RandomPassword:\n",
    "    def __init__(self, psw_chars, min_length, max_length):\n",
    "        self.psw_chars = psw_chars\n",
    "        self.min_length = min_length\n",
    "        self.max_length = max_length\n",
    "\n",
    "    def __call__(self):\n",
    "        password_length = random.randint(self.min_length, self.max_length)\n",
    "        password = \"\".join(random.choice(self.psw_chars) for _ in range(password_length))\n",
    "        return password\n",
    "\n",
    "min_length = 5\n",
    "max_length = 20\n",
    "psw_chars = \"qwertyuiopasdfghjklzxcvbnm0123456789!@#$%&*\"\n",
    "\n",
    "rnd = RandomPassword(psw_chars, min_length, max_length)\n",
    "\n",
    "lst_pass = [rnd() for _ in range(3)]\n",
    "\n",
    "print(lst_pass)\n"
   ]
  },
  {
   "attachments": {},
   "cell_type": "markdown",
   "metadata": {},
   "source": [
    "# 3) str\n",
    "Объявите класс с именем Book (книга), объекты которого создаются командой:\n",
    "```\n",
    "book = Book(title, author, pages)\n",
    "```\n",
    "где title - название книги (строка); author - автор книги (строка); pages - число страниц в книге (целое число).\n",
    "\n",
    "Также при выводе информации об объекте на экран командой:\n",
    "```\n",
    "print(book)\n",
    "```\n",
    "должна отображаться строчка в формате:\n",
    "\n",
    "\"Книга: {title}; {author}; {pages}\"\n",
    "\n",
    "Например:\n",
    "\n",
    "\"Книга: Муму; Тургенев; 123\"\n",
    "\n",
    "Прочитайте из входного потока строки с информацией по книге командой: (Входной поток представляем в виде списка сразу)\n",
    "```\n",
    "lst_in = ['Python', 'JK', '1024']\n",
    "#lst_in = list(map(str.strip, sys.stdin.readlines()))\n",
    "```\n",
    "(строки идут в порядке: title, author, pages). Создайте объект класса Book и выведите его строковое представление в консоль."
   ]
  },
  {
   "cell_type": "code",
   "execution_count": 3,
   "metadata": {},
   "outputs": [
    {
     "name": "stdout",
     "output_type": "stream",
     "text": [
      "Книга: Python; JK; 1024\n"
     ]
    }
   ],
   "source": [
    "#import sys\n",
    "\n",
    "# здесь пишите программу\n",
    "class Book:\n",
    "    def __init__(self, title, author, pages):\n",
    "        self.title = title\n",
    "        self.author = author\n",
    "        self.pages = pages\n",
    "\n",
    "    def __str__(self):\n",
    "        return f\"Книга: {self.title}; {self.author}; {self.pages}\"\n",
    "\n",
    "lst_in = ['Python', 'JK', '1024']\n",
    "\n",
    "book = Book(title=lst_in[0], author=lst_in[1], pages=int(lst_in[2]))\n",
    "print(book)\n",
    "\n",
    "#lst_in = list(map(str.strip, sys.stdin.readlines())) # считывание списка из входного потока\n",
    "\n",
    "# и здесь"
   ]
  },
  {
   "attachments": {},
   "cell_type": "markdown",
   "metadata": {},
   "source": [
    "# 4) \n",
    "Объявите класс WordString, объекты которого создаются командами:\n",
    "```\n",
    "w1 = WordString()\n",
    "w2 = WordString(string)\n",
    "```\n",
    "где string - передаваемая строка. Например:\n",
    "```\n",
    "words = WordString(\"Python ООП\")\n",
    "```\n",
    "Реализовать следующий функционал для объектов этого класса:\n",
    "\n",
    "len(words) - должно возвращаться число слов в переданной строке (слова разделяются одним или несколькими пробелами);\n",
    "\n",
    "words(indx) - должно возвращаться слово по его индексу (indx - порядковый номер слова в строке, начиная с 0).\n",
    "\n",
    "Также в классе WordString реализовать объект-свойство (property):\n",
    "\n",
    "string - для передачи и считывания строки.\n",
    "\n",
    "Пример пользования классом WordString (эти строчки в программе писать не нужно):\n",
    "```\n",
    "words = WordString()\n",
    "words.string = \"Python ООП\"\n",
    "n = len(words)\n",
    "first = \"\" if n == 0 else words(0)\n",
    "print(words.string)\n",
    "print(f\"Число слов: {n}; первое слово: {first}\")\n",
    "```"
   ]
  },
  {
   "cell_type": "code",
   "execution_count": 5,
   "metadata": {},
   "outputs": [
    {
     "name": "stdout",
     "output_type": "stream",
     "text": [
      "Python ООП\n",
      "Число слов: 2; первое слово: Python\n"
     ]
    }
   ],
   "source": [
    "class WordString:\n",
    "    def __init__(self, string=\"\"):\n",
    "        self._string = string\n",
    "\n",
    "    @property\n",
    "    def string(self):\n",
    "        return self._string\n",
    "\n",
    "    @string.setter\n",
    "    def string(self, new_string):\n",
    "        self._string = new_string\n",
    "\n",
    "    def __len__(self):\n",
    "        return len(self._string.split())\n",
    "\n",
    "    def __getitem__(self, index):\n",
    "        words_list = self._string.split()\n",
    "        if 0 <= index < len(words_list):\n",
    "            return words_list[index]\n",
    "        return \"\"\n",
    "\n",
    "# Пример использования\n",
    "words = WordString()\n",
    "words.string = \"Python ООП\"\n",
    "n = len(words)\n",
    "first = \"\" if n == 0 else words[0]\n",
    "print(words.string)\n",
    "print(f\"Число слов: {n}; первое слово: {first}\")\n"
   ]
  }
 ],
 "metadata": {
  "kernelspec": {
   "display_name": "Python 3",
   "language": "python",
   "name": "python3"
  },
  "language_info": {
   "codemirror_mode": {
    "name": "ipython",
    "version": 3
   },
   "file_extension": ".py",
   "mimetype": "text/x-python",
   "name": "python",
   "nbconvert_exporter": "python",
   "pygments_lexer": "ipython3",
   "version": "3.9.13"
  },
  "orig_nbformat": 4
 },
 "nbformat": 4,
 "nbformat_minor": 2
}
